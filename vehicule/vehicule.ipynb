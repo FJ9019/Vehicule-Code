{
 "cells": [
  {
   "cell_type": "code",
   "execution_count": null,
   "metadata": {},
   "outputs": [
    {
     "data": {
      "text/plain": [
       "40"
      ]
     },
     "execution_count": 11,
     "metadata": {},
     "output_type": "execute_result"
    }
   ],
   "source": [
    "class Vehicule():\n",
    "\n",
    "    is_start = False\n",
    "    speed = 0\n",
    "    start_time = 0\n",
    "    stop_time = 0\n",
    "    def __init__(self, name, brand, price, door_numb, color, fuel_capacity, deb_at_hund, speed_max):\n",
    "        self.name = name\n",
    "        self.brand = brand\n",
    "        self.price = price\n",
    "        self.color = color\n",
    "        self.fuel_capacity = fuel_capacity\n",
    "        self.deb_at_hundred = deb_at_hund\n",
    "        self.door_numb = door_numb\n",
    "        self.speed_max = speed_max\n",
    "        self.fuel = self.fuel_capacity\n",
    "\n",
    "    def start(self):       \n",
    "        from datetime import datetime\n",
    "        self.is_start = True\n",
    "        self.start_time = datetime.now()\n",
    "\n",
    "    def stop(self):\n",
    "        from datetime import datetime\n",
    "        self.is_start = False\n",
    "        self.stop_time = datetime.now()\n",
    "\n",
    "    def forward(self):\n",
    "        self.speed += 20\n",
    "\n",
    "    def accelerate(self):\n",
    "     if self.speed <= self.speed_max and self.is_start:\n",
    "          self.speed += 20\n",
    "\n",
    "    def slow(self):\n",
    "     if self.speed >= 0 and self.is_start:\n",
    "          self.speed -= 20          \n",
    "             \n",
    "expedition = Vehicule(\"expedition\", \"Ford\", 22000, 4, \"Red\", 125, 35, 220)\n",
    "\n",
    "expedition.start()\n",
    "expedition.forward()\n",
    "expedition.accelerate()\n",
    "expedition.accelerate()\n",
    "expedition.slow()\n",
    "\n",
    "expedition.stop()\n",
    "\n",
    "expedition.slow()\n",
    "expedition.accelerate()\n",
    "expedition.accelerate()\n",
    "\n",
    "expedition.speed"
   ]
  }
 ],
 "metadata": {
  "kernelspec": {
   "display_name": "Python 3",
   "language": "python",
   "name": "python3"
  },
  "language_info": {
   "codemirror_mode": {
    "name": "ipython",
    "version": 3
   },
   "file_extension": ".py",
   "mimetype": "text/x-python",
   "name": "python",
   "nbconvert_exporter": "python",
   "pygments_lexer": "ipython3",
   "version": "3.13.0"
  }
 },
 "nbformat": 4,
 "nbformat_minor": 2
}
