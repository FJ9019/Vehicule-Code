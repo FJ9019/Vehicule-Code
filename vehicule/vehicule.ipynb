{
 "cells": [
  {
   "cell_type": "code",
   "execution_count": null,
   "metadata": {},
   "outputs": [
    {
     "data": {
      "text/plain": [
       "{'name': 'Camry',\n",
       " 'brand': 'Toyota',\n",
       " 'price': 22000,\n",
       " 'color': 'Red',\n",
       " 'fuel_capacity': 125,\n",
       " 'deb_at_hundred': 25,\n",
       " 'door_numb': 4}"
      ]
     },
     "execution_count": 1,
     "metadata": {},
     "output_type": "execute_result"
    }
   ],
   "source": [
    "class Vehicule():\n",
    "    is_start = False\n",
    "    speed = 0\n",
    "    def __init__(self, name, brand, price, door_numb, color, fuel_capacity, deb_at_hund, speed_max):\n",
    "        self.name = name\n",
    "        self.brand = brand\n",
    "        self.price = price\n",
    "        self.color = color\n",
    "        self.fuel_capacity = fuel_capacity\n",
    "        self.deb_at_hundred = deb_at_hund\n",
    "        self.door_numb = door_numb\n",
    "        self.speed_max = speed_max\n",
    "\n",
    "def start(self):\n",
    "    self.is_start = True\n",
    "\n",
    "def stop(self):\n",
    "        self.is_start = False\n",
    "\n",
    "def forward(self):\n",
    "     self.speed += 10\n",
    "\n",
    "def accelerate(self):\n",
    "     if self.speed <= self.speed_max\n",
    "          pass\n",
    "     pass\n",
    "             \n",
    "camry = Vehicule(\"Camry\", \"Toyota\", 22000, 4, \"Red\", 125, 25)\n",
    "\n",
    "camry.start()\n",
    "camry.stop()\n",
    "\n",
    "camry.is_start"
   ]
  }
 ],
 "metadata": {
  "kernelspec": {
   "display_name": "Python 3",
   "language": "python",
   "name": "python3"
  },
  "language_info": {
   "codemirror_mode": {
    "name": "ipython",
    "version": 3
   },
   "file_extension": ".py",
   "mimetype": "text/x-python",
   "name": "python",
   "nbconvert_exporter": "python",
   "pygments_lexer": "ipython3",
   "version": "3.13.0"
  }
 },
 "nbformat": 4,
 "nbformat_minor": 2
}
